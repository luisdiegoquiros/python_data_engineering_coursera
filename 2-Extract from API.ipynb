{
 "cells": [
  {
   "cell_type": "markdown",
   "metadata": {},
   "source": [
    "<center>\n",
    "    <img src=\"https://gitlab.com/ibm/skills-network/courses/placeholder101/-/raw/master/labs/module%201/images/IDSNlogo.png\" width=\"300\" alt=\"cognitiveclass.ai logo\"  />\n",
    "</center>\n"
   ]
  },
  {
   "cell_type": "markdown",
   "metadata": {},
   "source": [
    "# Peer Review Assignment - Data Engineer - Extract API Data\n"
   ]
  },
  {
   "cell_type": "markdown",
   "metadata": {},
   "source": [
    "Estimated time needed: **20** minutes\n"
   ]
  },
  {
   "cell_type": "markdown",
   "metadata": {},
   "source": [
    "## Objectives\n",
    "\n",
    "In this part you will:\n",
    "\n",
    "*   Collect exchange rate data using an API\n",
    "*   Store the data as a CSV\n"
   ]
  },
  {
   "cell_type": "markdown",
   "metadata": {},
   "source": [
    "For this lab, we are going to be using Python and several Python libraries. Some of these libraries might be installed in your lab environment or in SN Labs. Others may need to be installed by you. The cells below will install these libraries when executed.\n"
   ]
  },
  {
   "cell_type": "code",
   "execution_count": 1,
   "metadata": {},
   "outputs": [],
   "source": [
    "#!pip install pandas\n",
    "#!pip install requests"
   ]
  },
  {
   "cell_type": "markdown",
   "metadata": {},
   "source": [
    "## Imports\n",
    "\n",
    "Import any additional libraries you may need here.\n"
   ]
  },
  {
   "cell_type": "code",
   "execution_count": 2,
   "metadata": {},
   "outputs": [],
   "source": [
    "import requests\n",
    "import pandas as pd"
   ]
  },
  {
   "cell_type": "markdown",
   "metadata": {},
   "source": [
    "## Extract Data Using an API\n"
   ]
  },
  {
   "cell_type": "markdown",
   "metadata": {},
   "source": [
    "Using ExchangeRate-API we will extract currency exchange rate data. Use the below steps to get the access key and to get the data.\n",
    "\n",
    "1.  Open the url : [https://exchangeratesapi.io/](https://exchangeratesapi.io/?utm_medium=Exinfluencer&utm_source=Exinfluencer&utm_content=000026UJ&utm_term=10006555&utm_id=NA-SkillsNetwork-Channel-SkillsNetworkCoursesIBMDeveloperSkillsNetworkPY0221ENSkillsNetwork23455645-2021-01-01) and create a free account.\n",
    "2.  Once the account is created. You will get the Get the Free API key option on the top as shown below:\n",
    "\n",
    "<img src=\"https://cf-courses-data.s3.us.cloud-object-storage.appdomain.cloud/IBMDeveloperSkillsNetwork-PY0221EN-SkillsNetwork/labs/module%206/Final%20Assignment/Images/getapi.png\"/>\n",
    "\n",
    "3.  Copy the API key and use in the url in Question 1.\n"
   ]
  },
  {
   "cell_type": "markdown",
   "metadata": {},
   "source": [
    "### Call the API\n",
    "\n",
    "<b> Question 1</b> Using the `requests` library call the endpoint given above and save the text, remember the first few characters of the output:\n"
   ]
  },
  {
   "cell_type": "markdown",
   "source": [
    "Get the API key from api_key.env using the package python-dotenv."
   ],
   "metadata": {
    "collapsed": false,
    "pycharm": {
     "name": "#%% md\n"
    }
   }
  },
  {
   "cell_type": "code",
   "execution_count": 3,
   "outputs": [
    {
     "data": {
      "text/plain": "True"
     },
     "execution_count": 3,
     "metadata": {},
     "output_type": "execute_result"
    }
   ],
   "source": [
    "import os\n",
    "from dotenv import load_dotenv\n",
    "load_dotenv('api_key.env')"
   ],
   "metadata": {
    "collapsed": false,
    "pycharm": {
     "name": "#%%\n"
    }
   }
  },
  {
   "cell_type": "code",
   "execution_count": 4,
   "metadata": {},
   "outputs": [],
   "source": [
    "# Write your code here\n",
    "SECRET_KEY = os.environ.get('EXCHANGERATEAPI')\n",
    "url = 'http://api.exchangeratesapi.io/v1/latest?base=EUR&access_key=' + SECRET_KEY"
   ]
  },
  {
   "cell_type": "code",
   "execution_count": 5,
   "outputs": [
    {
     "data": {
      "text/plain": "'{\"success\":true,\"timestamp\":1644539103,\"base\":\"EUR\",\"date\":\"2022-02-11\",\"rates\":{\"AED\":4.184886,\"AFN\":106.528548,\"ALL\":120.711955,\"AMD\":547.569658,\"ANG\":2.053361,\"AOA\":602.449576,\"ARS\":120.78659,\"AUD\":1.595228,\"AWG\":2.051088,\"AZN\":1.93422,\"BAM\":1.949243,\"BBD\":2.300426,\"BDT\":97.956088,\"BGN\":1.952906,\"BHD\":0.429574,\"BIF\":2298.608302,\"BMD\":1.139335,\"BND\":1.528535,\"BOB\":7.833031,\"BRL\":5.981733,\"BSD\":1.13935,\"BTC\":2.6328484e-5,\"BTN\":85.315702,\"BWP\":13.081196,\"BYN\":2.912757,\"BYR\":22330.965415,\"BZD\":2.296639,\"CAD\":1.452122,\"CDF\":2296.899601,\"CHF\":1.055592,\"CLF\":0.033249,\"CLP\":917.449087,\"CNY\":7.239567,\"COP\":4464.871455,\"CRC\":732.395097,\"CUC\":1.139335,\"CUP\":30.192377,\"CVE\":109.911515,\"CZK\":24.349887,\"DJF\":202.482535,\"DKK\":7.439516,\"DOP\":65.295635,\"DZD\":159.877999,\"EGP\":17.899975,\"ERN\":17.090047,\"ETB\":57.251472,\"EUR\":1,\"FJD\":2.434019,\"FKP\":0.829345,\"GBP\":0.841684,\"GEL\":3.350124,\"GGP\":0.829345,\"GHS\":7.336726,\"GIP\":0.829344,\"GMD\":60.441273,\"GNF\":10293.891461,\"GTQ\":8.761593,\"GYD\":238.374487,\"HKD\":8.883793,\"HNL\":28.028746,\"HRK\":7.529752,\"HTG\":117.608578,\"HUF\":353.983375,\"IDR\":16357.432167,\"ILS\":3.666859,\"IMP\":0.829344,\"INR\":86.064509,\"IQD\":1662.859389,\"IRR\":48179.623157,\"ISK\":141.813257,\"JEP\":0.829345,\"JMD\":179.117727,\"JOD\":0.807767,\"JPY\":132.308688,\"KES\":129.485236,\"KGS\":96.580146,\"KHR\":4637.093558,\"KMF\":489.059603,\"KPW\":1025.401652,\"KRW\":1368.495053,\"KWD\":0.344706,\"KYD\":0.949392,\"KZT\":486.904656,\"LAK\":12948.541297,\"LBP\":1726.831593,\"LKR\":231.146612,\"LRD\":174.887269,\"LSL\":17.249539,\"LTL\":3.36416,\"LVL\":0.689172,\"LYD\":5.229847,\"MAD\":10.602668,\"MDL\":20.303291,\"MGA\":4551.642964,\"MKD\":61.445016,\"MMK\":2025.773625,\"MNT\":3257.166319,\"MOP\":9.145695,\"MRO\":406.742388,\"MUR\":49.788855,\"MVR\":17.602958,\"MWK\":917.747731,\"MXN\":23.446947,\"MYR\":4.773739,\"MZN\":72.72355,\"NAD\":17.24968,\"NGN\":474.954848,\"NIO\":40.50328,\"NOK\":10.082009,\"NPR\":136.504725,\"NZD\":1.71217,\"OMR\":0.438657,\"PAB\":1.13925,\"PEN\":4.342576,\"PGK\":4.004753,\"PHP\":58.613654,\"PKR\":199.668275,\"PLN\":4.505525,\"PYG\":7941.962596,\"QAR\":4.148351,\"RON\":4.943226,\"RSD\":117.562256,\"RUB\":85.571235,\"RWF\":1158.133997,\"SAR\":4.274329,\"SBD\":9.221689,\"SCR\":15.611145,\"SDG\":504.725193,\"SEK\":10.635476,\"SGD\":1.534473,\"SHP\":1.569317,\"SLL\":13187.801975,\"SOS\":667.65062,\"SRD\":23.349514,\"STD\":23581.933574,\"SVC\":9.968315,\"SYP\":2862.009189,\"SZL\":17.249412,\"THB\":37.329744,\"TJS\":12.869013,\"TMT\":3.999066,\"TND\":3.249951,\"TOP\":2.583955,\"TRY\":15.387177,\"TTD\":7.743035,\"TWD\":31.749509,\"TZS\":2636.420757,\"UAH\":31.737951,\"UGX\":4024.201457,\"USD\":1.139335,\"UYU\":49.521657,\"UZS\":12361.783733,\"VEF\":243624249990.6835,\"VND\":25842.965461,\"VUV\":129.509817,\"WST\":2.976334,\"XAF\":653.747861,\"XAG\":0.050596,\"XAU\":0.00063,\"XCD\":3.07911,\"XDR\":0.811458,\"XOF\":653.404366,\"XPF\":118.918119,\"YER\":285.118433,\"ZAR\":17.288612,\"ZMK\":10255.383712,\"ZMW\":21.287167,\"ZWL\":366.865396}}'"
     },
     "execution_count": 5,
     "metadata": {},
     "output_type": "execute_result"
    }
   ],
   "source": [
    "data = requests.get(url)\n",
    "data.text"
   ],
   "metadata": {
    "collapsed": false,
    "pycharm": {
     "name": "#%%\n"
    }
   }
  },
  {
   "cell_type": "markdown",
   "metadata": {},
   "source": [
    "### Save as DataFrame\n",
    "\n",
    "<b> Question 2</b>  Using the data gathered turn it into a `pandas` dataframe. The dataframe should have the Currency as the index and `Rate` as their columns. Make sure to drop unnecessary columns.\n"
   ]
  },
  {
   "cell_type": "code",
   "execution_count": 6,
   "metadata": {},
   "outputs": [
    {
     "data": {
      "text/plain": "     success           timestamp base       date       rates\nAED     True 2022-02-11 00:25:03  EUR 2022-02-11    4.184886\nAFN     True 2022-02-11 00:25:03  EUR 2022-02-11  106.528548\nALL     True 2022-02-11 00:25:03  EUR 2022-02-11  120.711955\nAMD     True 2022-02-11 00:25:03  EUR 2022-02-11  547.569658\nANG     True 2022-02-11 00:25:03  EUR 2022-02-11    2.053361",
      "text/html": "<div>\n<style scoped>\n    .dataframe tbody tr th:only-of-type {\n        vertical-align: middle;\n    }\n\n    .dataframe tbody tr th {\n        vertical-align: top;\n    }\n\n    .dataframe thead th {\n        text-align: right;\n    }\n</style>\n<table border=\"1\" class=\"dataframe\">\n  <thead>\n    <tr style=\"text-align: right;\">\n      <th></th>\n      <th>success</th>\n      <th>timestamp</th>\n      <th>base</th>\n      <th>date</th>\n      <th>rates</th>\n    </tr>\n  </thead>\n  <tbody>\n    <tr>\n      <th>AED</th>\n      <td>True</td>\n      <td>2022-02-11 00:25:03</td>\n      <td>EUR</td>\n      <td>2022-02-11</td>\n      <td>4.184886</td>\n    </tr>\n    <tr>\n      <th>AFN</th>\n      <td>True</td>\n      <td>2022-02-11 00:25:03</td>\n      <td>EUR</td>\n      <td>2022-02-11</td>\n      <td>106.528548</td>\n    </tr>\n    <tr>\n      <th>ALL</th>\n      <td>True</td>\n      <td>2022-02-11 00:25:03</td>\n      <td>EUR</td>\n      <td>2022-02-11</td>\n      <td>120.711955</td>\n    </tr>\n    <tr>\n      <th>AMD</th>\n      <td>True</td>\n      <td>2022-02-11 00:25:03</td>\n      <td>EUR</td>\n      <td>2022-02-11</td>\n      <td>547.569658</td>\n    </tr>\n    <tr>\n      <th>ANG</th>\n      <td>True</td>\n      <td>2022-02-11 00:25:03</td>\n      <td>EUR</td>\n      <td>2022-02-11</td>\n      <td>2.053361</td>\n    </tr>\n  </tbody>\n</table>\n</div>"
     },
     "execution_count": 6,
     "metadata": {},
     "output_type": "execute_result"
    }
   ],
   "source": [
    "# Turn the data into a dataframe\n",
    "data_df = pd.read_json(data.text)\n",
    "data_df.head()"
   ]
  },
  {
   "cell_type": "code",
   "execution_count": 7,
   "metadata": {},
   "outputs": [
    {
     "data": {
      "text/plain": "          rates\nAED    4.184886\nAFN  106.528548\nALL  120.711955\nAMD  547.569658\nANG    2.053361",
      "text/html": "<div>\n<style scoped>\n    .dataframe tbody tr th:only-of-type {\n        vertical-align: middle;\n    }\n\n    .dataframe tbody tr th {\n        vertical-align: top;\n    }\n\n    .dataframe thead th {\n        text-align: right;\n    }\n</style>\n<table border=\"1\" class=\"dataframe\">\n  <thead>\n    <tr style=\"text-align: right;\">\n      <th></th>\n      <th>rates</th>\n    </tr>\n  </thead>\n  <tbody>\n    <tr>\n      <th>AED</th>\n      <td>4.184886</td>\n    </tr>\n    <tr>\n      <th>AFN</th>\n      <td>106.528548</td>\n    </tr>\n    <tr>\n      <th>ALL</th>\n      <td>120.711955</td>\n    </tr>\n    <tr>\n      <th>AMD</th>\n      <td>547.569658</td>\n    </tr>\n    <tr>\n      <th>ANG</th>\n      <td>2.053361</td>\n    </tr>\n  </tbody>\n</table>\n</div>"
     },
     "execution_count": 7,
     "metadata": {},
     "output_type": "execute_result"
    }
   ],
   "source": [
    "# Drop unnescessary columns\n",
    "data_df = data_df.drop(['success', 'timestamp', 'base', 'date'], axis=1)\n",
    "data_df.head()"
   ]
  },
  {
   "cell_type": "markdown",
   "metadata": {},
   "source": [
    "### Load the Data\n",
    "\n",
    "Using the dataframe save it as a CSV names `exchange_rates_1.csv`.\n"
   ]
  },
  {
   "cell_type": "code",
   "execution_count": 8,
   "metadata": {},
   "outputs": [],
   "source": [
    "# Save the Dataframe\n",
    "data_df.to_csv('data/exchange_rates_1.csv')"
   ]
  },
  {
   "cell_type": "markdown",
   "metadata": {},
   "source": [
    "Your CSV should be in this format with more currencies\n",
    "\n",
    "|     | Rates      |\n",
    "| --- | ---------- |\n",
    "| AED | 4.398618   |\n",
    "| AFN | 92.917693  |\n",
    "| ALL | 123.099093 |\n",
    "| AMD | 621.935674 |\n",
    "| ANG | 2.149648   |\n"
   ]
  },
  {
   "cell_type": "markdown",
   "metadata": {},
   "source": [
    "## Authors\n"
   ]
  },
  {
   "cell_type": "markdown",
   "metadata": {},
   "source": [
    "Ramesh Sannareddy, Joseph Santarcangelo and Azim Hirjani\n"
   ]
  },
  {
   "cell_type": "markdown",
   "metadata": {},
   "source": [
    "### Other Contributors\n"
   ]
  },
  {
   "cell_type": "markdown",
   "metadata": {},
   "source": [
    "Rav Ahuja\n"
   ]
  },
  {
   "cell_type": "markdown",
   "metadata": {},
   "source": [
    "## Change Log\n"
   ]
  },
  {
   "cell_type": "markdown",
   "metadata": {},
   "source": [
    "| Date (YYYY-MM-DD) | Version | Changed By        | Change Description                 |\n",
    "| ----------------- | ------- | ----------------- | ---------------------------------- |\n",
    "| 2021-04-15        | 0.2     | Malika            | Updated the lab from USD to EUR    |\n",
    "| 2020-11-25        | 0.1     | Ramesh Sannareddy | Created initial version of the lab |\n"
   ]
  },
  {
   "cell_type": "markdown",
   "metadata": {},
   "source": [
    "Copyright © 2020 IBM Corporation. This notebook and its source code are released under the terms of the [MIT License](https://cognitiveclass.ai/mit-license?utm_medium=Exinfluencer&utm_source=Exinfluencer&utm_content=000026UJ&utm_term=10006555&utm_id=NA-SkillsNetwork-Channel-SkillsNetworkCoursesIBMDeveloperSkillsNetworkPY0221ENSkillsNetwork23455645-2021-01-01&cm_mmc=Email_Newsletter-\\_-Developer_Ed%2BTech-\\_-WW_WW-\\_-SkillsNetwork-Courses-IBM-DA0321EN-SkillsNetwork-21426264&cm_mmca1=000026UJ&cm_mmca2=10006555&cm_mmca3=M12345678&cvosrc=email.Newsletter.M12345678&cvo_campaign=000026UJ).\n"
   ]
  }
 ],
 "metadata": {
  "kernelspec": {
   "display_name": "Python 3",
   "language": "python",
   "name": "python3"
  },
  "language_info": {
   "codemirror_mode": {
    "name": "ipython",
    "version": 3
   },
   "file_extension": ".py",
   "mimetype": "text/x-python",
   "name": "python",
   "nbconvert_exporter": "python",
   "pygments_lexer": "ipython3",
   "version": "3.7.6"
  }
 },
 "nbformat": 4,
 "nbformat_minor": 4
}